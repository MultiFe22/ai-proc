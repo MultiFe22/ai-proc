{
 "cells": [
  {
   "cell_type": "markdown",
   "id": "b1f55215",
   "metadata": {},
   "source": [
    "# Debugging Claude Web Search Integration\n",
    "This notebook helps debug the web search pipeline for the AI-powered procurement assistant."
   ]
  },
  {
   "cell_type": "markdown",
   "id": "809523fd",
   "metadata": {},
   "source": [
    "## 1. Environment Setup\n",
    "Ensure the backend virtual environment is activated and the required packages are installed."
   ]
  },
  {
   "cell_type": "code",
   "execution_count": 1,
   "id": "b6a91731",
   "metadata": {},
   "outputs": [],
   "source": [
    "import os\n",
    "import json\n",
    "from dotenv import load_dotenv\n",
    "from anthropic import Anthropic"
   ]
  },
  {
   "cell_type": "code",
   "execution_count": 2,
   "id": "a3585f25",
   "metadata": {},
   "outputs": [],
   "source": [
    "# Load environment variables\n",
    "load_dotenv()\n",
    "ANTHROPIC_API_KEY = os.getenv(\"ANTHROPIC_API_KEY\")\n",
    "assert ANTHROPIC_API_KEY, 'ANTHROPIC_API_KEY not set'"
   ]
  },
  {
   "cell_type": "markdown",
   "id": "58a04192",
   "metadata": {},
   "source": [
    "## 2. Prepare Prompt and Claude Client"
   ]
  },
  {
   "cell_type": "code",
   "execution_count": 3,
   "id": "bbdc8d2b",
   "metadata": {},
   "outputs": [],
   "source": [
    "from datetime import datetime\n",
    "\n",
    "\n",
    "client = Anthropic(api_key=ANTHROPIC_API_KEY)\n",
    "component = 'carbon steel sheets'\n",
    "country = 'Germany'\n",
    "prompt = f\"\"\"Given I'm a senior category manager for a company that manufactures appliances, I need a comprehensive procurement analysis for suppliers of {component} in {country}.\n",
    "\n",
    "    As an experienced procurement specialist, provide me with in-depth research on the top suppliers, covering:\n",
    "    \n",
    "    CORE DETAILS:\n",
    "    1. Company name\n",
    "    2. Website URL\n",
    "    3. Headquarters location and manufacturing facilities (if different)\n",
    "    4. Year founded\n",
    "    5. Company size (employees, annual revenue if available)\n",
    "    \n",
    "    PRODUCT ASSESSMENT:\n",
    "    6. Detailed product offerings related to {component}\n",
    "    7. Quality tiers (premium, mid-range, budget)\n",
    "    8. Manufacturing capabilities and capacity\n",
    "    9. Technical specifications and differentiators\n",
    "    10. R&D capabilities and innovation focus\n",
    "    \n",
    "    SUPPLY CHAIN FACTORS:\n",
    "    11. Lead times (standard and expedited if available)\n",
    "    12. Minimum order quantities\n",
    "    13. Production capacity\n",
    "    14. Geographic distribution of facilities\n",
    "    15. Certifications (ISO, industry-specific, sustainability)\n",
    "    \n",
    "    BUSINESS EVALUATION:\n",
    "    16. Market reputation and standing\n",
    "    17. Key competitive advantages\n",
    "    18. Major clients or industries served\n",
    "    19. Financial stability indicators\n",
    "    20. Sustainability and ESG practices\n",
    "    \n",
    "    PROCUREMENT INSIGHTS:\n",
    "    21. Pricing model and structure (price ranges if available)\n",
    "    22. Contract terms flexibility\n",
    "    23. Reliability assessment\n",
    "    24. Any known supply chain disruption history\n",
    "    25. Vendor relationship management approach\n",
    "    26. Total cost of ownership considerations\n",
    "    27. Shipping and logistics capabilities\n",
    "    28. Import/export considerations specific to {country}\n",
    "    29. Contact information (procurement department, if available)\n",
    "    30. Negotiation leverage points and strategies\n",
    "    \n",
    "    For each supplier, conduct a strategic assessment that includes:\n",
    "    - SWOT analysis (Strengths, Weaknesses, Opportunities, Threats)\n",
    "    - Risk assessment (1-10 scale with 10 being highest risk)\n",
    "    - Strategic fit for appliance manufacturers\n",
    "    - Comparison with industry benchmarks\n",
    "    - Potential for long-term partnership development\n",
    "    \n",
    "    Return the results in a structured JSON format if possible, but ensure all key insights are included regardless of format.\n",
    "    \n",
    "    Today's date is {datetime.now().strftime('%Y-%m-%d')}.\n",
    "    Provide at least 5 diverse suppliers if possible, with comprehensive analysis for each.\n",
    "    Ensure your assessments include both objective factors and subjective procurement insights that would help with sourcing decisions.\n",
    "    \"\"\""
   ]
  },
  {
   "cell_type": "markdown",
   "id": "bc185fff",
   "metadata": {},
   "source": [
    "## 3. Call Claude Web Search and Inspect Response"
   ]
  },
  {
   "cell_type": "code",
   "execution_count": 4,
   "id": "eb9d1b4c",
   "metadata": {},
   "outputs": [],
   "source": [
    "response = client.beta.messages.create(\n",
    "    model=\"claude-3-7-sonnet-20250219\",\n",
    "    max_tokens=2048,\n",
    "    temperature=1,\n",
    "    messages=[\n",
    "        {\n",
    "            'role': 'user',\n",
    "            'content': [\n",
    "                {\n",
    "                    'type': 'text',\n",
    "                    'text': prompt\n",
    "                }\n",
    "            ]\n",
    "        }\n",
    "    ],\n",
    "    tools=[\n",
    "        {\n",
    "            'name': 'web_search',\n",
    "            'type': 'web_search_20250305'\n",
    "        }\n",
    "    ],\n",
    "    thinking={\n",
    "        'type': 'enabled',\n",
    "        'budget_tokens': 1531\n",
    "    },\n",
    "    betas=['web-search-2025-03-05']\n",
    ")"
   ]
  },
  {
   "cell_type": "code",
   "execution_count": null,
   "id": "9dd589b0",
   "metadata": {},
   "outputs": [
    {
     "ename": "TypeError",
     "evalue": "Object of type BetaMessage is not JSON serializable",
     "output_type": "error",
     "traceback": [
      "\u001b[0;31m---------------------------------------------------------------------------\u001b[0m",
      "\u001b[0;31mTypeError\u001b[0m                                 Traceback (most recent call last)",
      "Cell \u001b[0;32mIn[16], line 2\u001b[0m\n\u001b[1;32m      1\u001b[0m \u001b[38;5;66;03m# Inspect the structure of the response\u001b[39;00m\n\u001b[0;32m----> 2\u001b[0m \u001b[38;5;28mprint\u001b[39m(\u001b[43mjson\u001b[49m\u001b[38;5;241;43m.\u001b[39;49m\u001b[43mdumps\u001b[49m\u001b[43m(\u001b[49m\u001b[43mresponse\u001b[49m\u001b[43m,\u001b[49m\u001b[43m \u001b[49m\u001b[43mindent\u001b[49m\u001b[38;5;241;43m=\u001b[39;49m\u001b[38;5;241;43m2\u001b[39;49m\u001b[43m)\u001b[49m)\n",
      "File \u001b[0;32m/Library/Developer/CommandLineTools/Library/Frameworks/Python3.framework/Versions/3.9/lib/python3.9/json/__init__.py:234\u001b[0m, in \u001b[0;36mdumps\u001b[0;34m(obj, skipkeys, ensure_ascii, check_circular, allow_nan, cls, indent, separators, default, sort_keys, **kw)\u001b[0m\n\u001b[1;32m    232\u001b[0m \u001b[38;5;28;01mif\u001b[39;00m \u001b[38;5;28mcls\u001b[39m \u001b[38;5;129;01mis\u001b[39;00m \u001b[38;5;28;01mNone\u001b[39;00m:\n\u001b[1;32m    233\u001b[0m     \u001b[38;5;28mcls\u001b[39m \u001b[38;5;241m=\u001b[39m JSONEncoder\n\u001b[0;32m--> 234\u001b[0m \u001b[38;5;28;01mreturn\u001b[39;00m \u001b[38;5;28;43mcls\u001b[39;49m\u001b[43m(\u001b[49m\n\u001b[1;32m    235\u001b[0m \u001b[43m    \u001b[49m\u001b[43mskipkeys\u001b[49m\u001b[38;5;241;43m=\u001b[39;49m\u001b[43mskipkeys\u001b[49m\u001b[43m,\u001b[49m\u001b[43m \u001b[49m\u001b[43mensure_ascii\u001b[49m\u001b[38;5;241;43m=\u001b[39;49m\u001b[43mensure_ascii\u001b[49m\u001b[43m,\u001b[49m\n\u001b[1;32m    236\u001b[0m \u001b[43m    \u001b[49m\u001b[43mcheck_circular\u001b[49m\u001b[38;5;241;43m=\u001b[39;49m\u001b[43mcheck_circular\u001b[49m\u001b[43m,\u001b[49m\u001b[43m \u001b[49m\u001b[43mallow_nan\u001b[49m\u001b[38;5;241;43m=\u001b[39;49m\u001b[43mallow_nan\u001b[49m\u001b[43m,\u001b[49m\u001b[43m \u001b[49m\u001b[43mindent\u001b[49m\u001b[38;5;241;43m=\u001b[39;49m\u001b[43mindent\u001b[49m\u001b[43m,\u001b[49m\n\u001b[1;32m    237\u001b[0m \u001b[43m    \u001b[49m\u001b[43mseparators\u001b[49m\u001b[38;5;241;43m=\u001b[39;49m\u001b[43mseparators\u001b[49m\u001b[43m,\u001b[49m\u001b[43m \u001b[49m\u001b[43mdefault\u001b[49m\u001b[38;5;241;43m=\u001b[39;49m\u001b[43mdefault\u001b[49m\u001b[43m,\u001b[49m\u001b[43m \u001b[49m\u001b[43msort_keys\u001b[49m\u001b[38;5;241;43m=\u001b[39;49m\u001b[43msort_keys\u001b[49m\u001b[43m,\u001b[49m\n\u001b[1;32m    238\u001b[0m \u001b[43m    \u001b[49m\u001b[38;5;241;43m*\u001b[39;49m\u001b[38;5;241;43m*\u001b[39;49m\u001b[43mkw\u001b[49m\u001b[43m)\u001b[49m\u001b[38;5;241;43m.\u001b[39;49m\u001b[43mencode\u001b[49m\u001b[43m(\u001b[49m\u001b[43mobj\u001b[49m\u001b[43m)\u001b[49m\n",
      "File \u001b[0;32m/Library/Developer/CommandLineTools/Library/Frameworks/Python3.framework/Versions/3.9/lib/python3.9/json/encoder.py:201\u001b[0m, in \u001b[0;36mJSONEncoder.encode\u001b[0;34m(self, o)\u001b[0m\n\u001b[1;32m    199\u001b[0m chunks \u001b[38;5;241m=\u001b[39m \u001b[38;5;28mself\u001b[39m\u001b[38;5;241m.\u001b[39miterencode(o, _one_shot\u001b[38;5;241m=\u001b[39m\u001b[38;5;28;01mTrue\u001b[39;00m)\n\u001b[1;32m    200\u001b[0m \u001b[38;5;28;01mif\u001b[39;00m \u001b[38;5;129;01mnot\u001b[39;00m \u001b[38;5;28misinstance\u001b[39m(chunks, (\u001b[38;5;28mlist\u001b[39m, \u001b[38;5;28mtuple\u001b[39m)):\n\u001b[0;32m--> 201\u001b[0m     chunks \u001b[38;5;241m=\u001b[39m \u001b[38;5;28;43mlist\u001b[39;49m\u001b[43m(\u001b[49m\u001b[43mchunks\u001b[49m\u001b[43m)\u001b[49m\n\u001b[1;32m    202\u001b[0m \u001b[38;5;28;01mreturn\u001b[39;00m \u001b[38;5;124m'\u001b[39m\u001b[38;5;124m'\u001b[39m\u001b[38;5;241m.\u001b[39mjoin(chunks)\n",
      "File \u001b[0;32m/Library/Developer/CommandLineTools/Library/Frameworks/Python3.framework/Versions/3.9/lib/python3.9/json/encoder.py:438\u001b[0m, in \u001b[0;36m_make_iterencode.<locals>._iterencode\u001b[0;34m(o, _current_indent_level)\u001b[0m\n\u001b[1;32m    436\u001b[0m         \u001b[38;5;28;01mraise\u001b[39;00m \u001b[38;5;167;01mValueError\u001b[39;00m(\u001b[38;5;124m\"\u001b[39m\u001b[38;5;124mCircular reference detected\u001b[39m\u001b[38;5;124m\"\u001b[39m)\n\u001b[1;32m    437\u001b[0m     markers[markerid] \u001b[38;5;241m=\u001b[39m o\n\u001b[0;32m--> 438\u001b[0m o \u001b[38;5;241m=\u001b[39m \u001b[43m_default\u001b[49m\u001b[43m(\u001b[49m\u001b[43mo\u001b[49m\u001b[43m)\u001b[49m\n\u001b[1;32m    439\u001b[0m \u001b[38;5;28;01myield from\u001b[39;00m _iterencode(o, _current_indent_level)\n\u001b[1;32m    440\u001b[0m \u001b[38;5;28;01mif\u001b[39;00m markers \u001b[38;5;129;01mis\u001b[39;00m \u001b[38;5;129;01mnot\u001b[39;00m \u001b[38;5;28;01mNone\u001b[39;00m:\n",
      "File \u001b[0;32m/Library/Developer/CommandLineTools/Library/Frameworks/Python3.framework/Versions/3.9/lib/python3.9/json/encoder.py:179\u001b[0m, in \u001b[0;36mJSONEncoder.default\u001b[0;34m(self, o)\u001b[0m\n\u001b[1;32m    160\u001b[0m \u001b[38;5;28;01mdef\u001b[39;00m\u001b[38;5;250m \u001b[39m\u001b[38;5;21mdefault\u001b[39m(\u001b[38;5;28mself\u001b[39m, o):\n\u001b[1;32m    161\u001b[0m \u001b[38;5;250m    \u001b[39m\u001b[38;5;124;03m\"\"\"Implement this method in a subclass such that it returns\u001b[39;00m\n\u001b[1;32m    162\u001b[0m \u001b[38;5;124;03m    a serializable object for ``o``, or calls the base implementation\u001b[39;00m\n\u001b[1;32m    163\u001b[0m \u001b[38;5;124;03m    (to raise a ``TypeError``).\u001b[39;00m\n\u001b[0;32m   (...)\u001b[0m\n\u001b[1;32m    177\u001b[0m \n\u001b[1;32m    178\u001b[0m \u001b[38;5;124;03m    \"\"\"\u001b[39;00m\n\u001b[0;32m--> 179\u001b[0m     \u001b[38;5;28;01mraise\u001b[39;00m \u001b[38;5;167;01mTypeError\u001b[39;00m(\u001b[38;5;124mf\u001b[39m\u001b[38;5;124m'\u001b[39m\u001b[38;5;124mObject of type \u001b[39m\u001b[38;5;132;01m{\u001b[39;00mo\u001b[38;5;241m.\u001b[39m\u001b[38;5;18m__class__\u001b[39m\u001b[38;5;241m.\u001b[39m\u001b[38;5;18m__name__\u001b[39m\u001b[38;5;132;01m}\u001b[39;00m\u001b[38;5;124m \u001b[39m\u001b[38;5;124m'\u001b[39m\n\u001b[1;32m    180\u001b[0m                     \u001b[38;5;124mf\u001b[39m\u001b[38;5;124m'\u001b[39m\u001b[38;5;124mis not JSON serializable\u001b[39m\u001b[38;5;124m'\u001b[39m)\n",
      "\u001b[0;31mTypeError\u001b[0m: Object of type BetaMessage is not JSON serializable"
     ]
    }
   ],
   "source": [
    "# Inspect the structure of the response\n",
    "print(json.dumps(response.model_dump(), indent=2))"
   ]
  },
  {
   "cell_type": "markdown",
   "id": "a24ed67b",
   "metadata": {},
   "source": [
    "## 4. Extract and Display Text Content"
   ]
  },
  {
   "cell_type": "code",
   "execution_count": 8,
   "id": "0475775b",
   "metadata": {},
   "outputs": [
    {
     "name": "stdout",
     "output_type": "stream",
     "text": [
      "I'll conduct a comprehensive procurement analysis for carbon steel sheet suppliers in Germany. Let me search for the necessary information.\n",
      "\n",
      "I need more specific information about German carbon steel sheet suppliers. Let me search for more targeted information.\n",
      "\n",
      "Let me search for more suppliers and details about Voestalpine and other key players:\n",
      "\n",
      "Let me search for one more supplier to have a comprehensive list:\n",
      "\n",
      "Let me search for one more company to round out the list:\n",
      "\n",
      "Based on the comprehensive research gathered, I'll now provide you with a detailed procurement analysis of the top carbon steel sheet suppliers in Germany.\n",
      "\n",
      "# Carbon Steel Sheet Suppliers in Germany: Procurement Analysis\n",
      "\n",
      "## 1. ThyssenKrupp Steel Europe\n",
      "\n",
      "### CORE DETAILS:\n",
      "ThyssenKrupp Steel Europe is one of the world's leading suppliers of high-grade flat steel and stands for high-quality products for innovative applications. ThyssenKrupp AG is a German industrial engineering and steel production multinational conglomerate that resulted from the 1999 merger of Thyssen AG and Krupp. It has its operational headquarters in Duisburg and Essen and is one of the largest steel producers in the world.\n",
      "\n",
      "1. **Company name**: ThyssenKrupp Steel Europe AG\n",
      "2. **Website URL**: https://www.thyssenkrupp-steel.com/en/\n",
      "3. **Headquarters location**: Duisburg and Essen, Germany. The Duisburg site is where the entire steel production process is carried out, housing efficient production plants for pig iron and crude steel, as well as a large share of the rolling mill and further processing plants.\n",
      "4. **Year founded**: The company traces its history back to 1811 (Krupp) and 1891 (Thyssen AG founded under the name Gewerkschaft Deutscher Kaiser), with the merger creating ThyssenKrupp occurring in 1999.\n",
      "5. **Company size**: The company is divided into 670 subsidiaries worldwide. Revenue information was not directly provided in the search results.\n",
      "\n",
      "### PRODUCT ASSESSMENT:\n",
      "6. **Detailed product offerings**: ThyssenKrupp offers premium cut-to-length sheet products including XAR®, perform® and TBL brands. The company offers a broad spectrum of cold-rolled sheet and coated products, with coatings ranging from hot-dip galvanized and galvannealed to ZM Ecoprotect® coating and aluminum-based aluminum-silicon and galfan® products. They also offer electrogalvanized sheet and special texture primetex®. Additionally, ThyssenKrupp is a leading manufacturer of organic-coated sheet, offering attractive and functional coatings from their pladur® and Reflections® ranges.\n",
      "\n",
      "7. **Quality tiers**: ThyssenKrupp is not just a world-leading materials distributor but also offers tailored logistics solutions and custom processing services. Their product range includes carbon steel, stainless steel, nonferrous metals, and plastics in virtually all shapes, grades, and sizes, with approximately 150,000 articles available.\n",
      "\n",
      "8. **Manufacturing capabilities**: One of their largest hot strip mills is located at the Bochum site. The hot rolled wide strip train is particularly suitable for rolling due to its high drive power and the fact that it has a coil box. Production of non grain oriented electrical steel is carried out in Bochum, where hot strip from Duisburg is processed into non grain oriented electrical sheets. Their Dortmund location has a modern cold strip mill with additional continuous annealing and supplementary surface finishing lines.\n",
      "\n",
      "9. **Technical specifications**: ThyssenKrupp offers bluemint® Steel, their brand for CO2-reduced steel that will eventually be produced from a hydrogen-powered direct reduction plant. Customers can already significantly reduce their carbon footprint with the bluemint® pure and bluemint® recycled brands, which achieve CO2 savings by using alternative charge materials in the blast furnace. With bluemint® Steel, ThyssenKrupp offers all the proven steel grades with reduced CO2 intensity without compromising quality.\n",
      "\n",
      "10. **R&D capabilities**: ThyssenKrupp Steel is continuing the transformation towards climate-neutral steel production with the planned construction of a direct reduction plant to be operated with renewable hydrogen, with a capacity of 2.5 million tons of directly reduced iron. The company has had its climate targets confirmed by the Science Based Targets initiative (SBTi) and is one of the first steelmakers to have its climate targets reviewed on a scientific basis and found to be in line with the 1.5 degree target of the Paris Agreement.\n",
      "\n",
      "### SUPPLY CHAIN FACTORS:\n",
      "11. **Lead times**: Not specified in the search results.\n",
      "12. **Minimum order quantities**: Not specified in the search results.\n",
      "13. **Production capacity**: Not explicitly stated, but extensive facilities suggest significant capacity.\n",
      "14. **Geographic distribution**: ThyssenKrupp Steel Europe markets top-quality products to a broad range of industries through international presence. The company's manufacturing program covers a comprehensive range of steel coils (black or pickled, hot-rolled, cold-rolled, coated, etc.), which can also be processed via their service centers in the form of strips or blanks.\n",
      "\n",
      "15. **Certifications**: The company's climate targets have been confirmed on the basis of the scientifically sound guidelines of the Science Based Targets initiative (SBTi), making it one of the first steelmakers to have its climate targets reviewed on a scientific basis.\n",
      "\n",
      "### BUSINESS EVALUATION:\n",
      "16. **Market reputation**: ThyssenKrupp is recognized as a strong, innovative partner for steel production and processing and is one of the leading suppliers worldwide.\n",
      "\n",
      "17. **Key competitive advantages**: As a long-established supplier to the automotive and industrial sectors, ThyssenKrupp Steel Europe's plants produce steels that meet international standards as well as specifications of French and European car manufacturers.\n",
      "\n",
      "18. **Major clients**: Volkswagen Group is a significant client, having signed an MoU with ThyssenKrupp Steel for the supply of low-carbon steel from the future direct reduction plant. The use of bluemint® Steel will support Volkswagen in reducing CO₂ emissions in the supply chain and achieving the company's climate targets.\n",
      "\n",
      "19. **Financial stability**: The company was ranked tenth-largest worldwide by revenue in 2015. More recent financial data not found in the search results.\n",
      "\n",
      "20. **Sustainability and ESG practices**: ThyssenKrupp is investing in climate-neutral steel production with the planned construction of a direct reduction plant operated with renewable hydrogen. The company has had its climate targets confirmed by the Science Based Targets initiative (SBTi), with targets aligned to the 1.5 degree target of the Paris Agreement – both for the short-term target for 2032 and the net-zero target for 2045.\n",
      "\n",
      "### PROCUREMENT INSIGHTS:\n",
      "21. **Pricing model**: Not specified in search results.\n",
      "22. **Contract terms flexibility**: Not specified in search results.\n",
      "23. **Reliability assessment**: ThyssenKrupp positions itself as a strong, innovative partner for steel production and processing.\n",
      "24. **Supply chain disruption history**: There was a notable incident where Germany's cartel authority fined ThyssenKrupp along with Salzgitter and Voestalpine for price fixing. The companies had agreed on certain surcharges for steel plates in Germany from 2002\n"
     ]
    }
   ],
   "source": [
    "# Extract all text content from the response\n",
    "content_items = response.content\n",
    "text_content = ''\n",
    "for item in content_items:\n",
    "    if getattr(item, 'type', None) == 'text':\n",
    "        text_content += getattr(item, 'text', '')\n",
    "print(text_content[:20000])  # Print first 2000 chars for inspection"
   ]
  }
 ],
 "metadata": {
  "kernelspec": {
   "display_name": "venv",
   "language": "python",
   "name": "python3"
  },
  "language_info": {
   "codemirror_mode": {
    "name": "ipython",
    "version": 3
   },
   "file_extension": ".py",
   "mimetype": "text/x-python",
   "name": "python",
   "nbconvert_exporter": "python",
   "pygments_lexer": "ipython3",
   "version": "3.9.6"
  }
 },
 "nbformat": 4,
 "nbformat_minor": 5
}
